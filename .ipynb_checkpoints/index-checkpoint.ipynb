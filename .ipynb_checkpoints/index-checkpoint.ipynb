{
 "cells": [
  {
   "cell_type": "markdown",
   "metadata": {},
   "source": [
    "# Try pyqg "
   ]
  },
  {
   "cell_type": "markdown",
   "metadata": {},
   "source": [
    "Excecute the notebooks from the docs\n",
    "\n",
    "\n",
    "[Two-layer model](docs/examples/two-layer.ipynb)\n",
    "\n",
    "[Barotropic model](docs/examples/barotropic.ipynb)\n",
    "\n",
    "[SQG model](docs/examples/sqg.ipynb)"
   ]
  }
 ],
 "metadata": {
  "kernelspec": {
   "display_name": "Python 2",
   "language": "python",
   "name": "python2"
  },
  "language_info": {
   "codemirror_mode": {
    "name": "ipython",
    "version": 2
   },
   "file_extension": ".py",
   "mimetype": "text/x-python",
   "name": "python",
   "nbconvert_exporter": "python",
   "pygments_lexer": "ipython2",
   "version": "2.7.10"
  }
 },
 "nbformat": 4,
 "nbformat_minor": 0
}

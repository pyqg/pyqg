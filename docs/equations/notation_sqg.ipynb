{
 "cells": [
  {
   "cell_type": "markdown",
   "metadata": {},
   "source": [
    "# Semi-infinite surface quasi-geostrophic model"
   ]
  },
  {
   "cell_type": "markdown",
   "metadata": {},
   "source": [
    "The surface geostrophic model is associated with a active surface boundary condition"
   ]
  },
  {
   "cell_type": "markdown",
   "metadata": {},
   "source": [
    "$$\n",
    "\\partial_t\\,{b} + \\mathsf{J}\\left(\\psi\\,, b\\right)= \\text{ssd} \\,,\\qquad \\text{at} \\qquad z = 0\\,,\n",
    "$$\n",
    "where $b = \\psi_z$ is the buoyancy. "
   ]
  },
  {
   "cell_type": "markdown",
   "metadata": {},
   "source": [
    "The interior potential vorticity is constant (typically zero), and this leads the inversion relationship. We have\n",
    "\n",
    "$$\n",
    "\\frac{\\partial }{\\partial z}\\left(\\frac{f_0^2}{N^2}\\frac{\\partial \\psi}{\\partial z}\\right) + \\nabla^2\\psi  = 0\\,,\n",
    "$$\n",
    "\n",
    "where $N$ is the buoyancy frequency and $f_0$ is the Coriolis parameter. The boundary conditions for this elliptic problem are\n",
    "\n",
    "$$\n",
    "b = \\psi_z \\,,\\qquad \\text{at} \\qquad z = 0\\,,\n",
    "$$\n",
    "\n",
    "and\n",
    "\n",
    "$$\n",
    "\\psi = b = 0 \\,,\\qquad \\text{at} \\qquad z \\rightarrow -\\infty\\,.\n",
    "$$\n"
   ]
  },
  {
   "cell_type": "markdown",
   "metadata": {},
   "source": [
    "Hence, the inversion relationship in Fourier space is\n",
    "\n",
    "$$\n",
    "\\hat{\\psi} = \\frac{f_0}{N} \\frac{1}{\\kappa} \\hat{b}\\,,\\qquad \\text{at} \\qquad z = 0\\,.\n",
    "$$"
   ]
  },
  {
   "cell_type": "markdown",
   "metadata": {},
   "source": [
    "The system is marched forward in time similarly to the two-layer model."
   ]
  }
 ],
 "metadata": {
  "kernelspec": {
   "display_name": "Python 2",
   "language": "python",
   "name": "python2"
  },
  "language_info": {
   "codemirror_mode": {
    "name": "ipython",
    "version": 2
   },
   "file_extension": ".py",
   "mimetype": "text/x-python",
   "name": "python",
   "nbconvert_exporter": "python",
   "pygments_lexer": "ipython2",
   "version": "2.7.10"
  }
 },
 "nbformat": 4,
 "nbformat_minor": 0
}

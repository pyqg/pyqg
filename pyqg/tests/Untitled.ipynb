{
 "cells": [
  {
   "cell_type": "code",
   "execution_count": 15,
   "id": "enabling-sunset",
   "metadata": {},
   "outputs": [],
   "source": [
    "import xarray as xr"
   ]
  },
  {
   "cell_type": "code",
   "execution_count": 30,
   "id": "minute-police",
   "metadata": {},
   "outputs": [],
   "source": [
    "class Model():\n",
    "    \n",
    "    '''test'''\n",
    "    def __init__(\n",
    "        self,\n",
    "        # grid size parameters\n",
    "        nz=1,\n",
    "        nx=64,                     # grid resolution\n",
    "        ny=None,\n",
    "        L=1e6,                     # domain size is L [m]\n",
    "        W=None,\n",
    "        # timestepping parameters\n",
    "        dt=7200.,                   # numerical timestep\n",
    "        twrite=1000.,               # interval for cfl and ke writeout (in timesteps)\n",
    "        tmax=1576800000.,           # total time of integration\n",
    "        tavestart=315360000.,       # start time for averaging\n",
    "        taveint=86400.,             # time interval used for summation in longterm average in seconds\n",
    "        useAB2=False,               # use second order Adams Bashforth timestepping instead of 3rd\n",
    "        # friction parameters\n",
    "        rek=5.787e-7,               # linear drag in lower layer\n",
    "        filterfac=23.6,             # the factor for use in the exponential filter\n",
    "        # constants\n",
    "        f = 1,                   # coriolis parameter (not necessary for two-layer model\n",
    "                                    #  if deformation radius is provided)\n",
    "        g= 9.81,                    # acceleration due to gravity\n",
    "        # diagnostics parameters\n",
    "        diagnostics_list='all',     # which diagnostics to output\n",
    "        # fft parameters\n",
    "        # removed because fftw is now manditory\n",
    "        #use_fftw = False,               # fftw flag\n",
    "        #teststyle = False,            # use fftw with \"estimate\" planner to get reproducibility\n",
    "        ntd = 1,                       # number of threads to use in fftw computations\n",
    "        log_level = 1,                 # logger level: from 0 for quiet (no log) to 4 for verbose\n",
    "                                       #     logger (see  https://docs.python.org/2/library/logging.html)\n",
    "        logfile = None,                # logfile; None prints to screen\n",
    "        ):\n",
    "        \"\"\"\n",
    "        .. note:: All of the test cases use ``nx==ny``. Expect bugs if you choose\n",
    "                  these parameters to be different.\n",
    "        .. note:: All time intervals will be rounded to nearest `dt` interval.\n",
    "\n",
    "        Parameters\n",
    "        ----------\n",
    "        nx : int\n",
    "            Number of grid points in the x direction.\n",
    "        ny : int\n",
    "            Number of grid points in the y direction (default: nx).\n",
    "        L : number\n",
    "            Domain length in x direction. Units: meters.\n",
    "        W :\n",
    "            Domain width in y direction. Units: meters (default: L).\n",
    "        rek : number\n",
    "            linear drag in lower layer. Units: seconds :sup:`-1`.\n",
    "        filterfac : number\n",
    "            amplitdue of the spectral spherical filter (originally 18.4, later\n",
    "            changed to 23.6).\n",
    "        dt : number\n",
    "            Numerical timstep. Units: seconds.\n",
    "        twrite : int\n",
    "            Interval for cfl writeout. Units: number of timesteps.\n",
    "        tmax : number\n",
    "            Total time of integration. Units: seconds.\n",
    "        tavestart : number\n",
    "            Start time for averaging. Units: seconds.\n",
    "        tsnapstart : number\n",
    "            Start time for snapshot writeout. Units: seconds.\n",
    "        taveint : number\n",
    "            Time interval for accumulation of diagnostic averages.\n",
    "            Units: seconds. (For performance purposes, averaging does not have to\n",
    "            occur every timestep)\n",
    "        tsnapint : number\n",
    "            Time interval for snapshots. Units: seconds.\n",
    "        ntd : int\n",
    "            Number of threads to use. Should not exceed the number of cores on\n",
    "            your machine.\n",
    "        \"\"\"\n",
    "\n",
    "        if ny is None:\n",
    "            ny = nx\n",
    "        if W is None:\n",
    "            W = L\n",
    "            \n",
    "        self.L = L\n",
    "        self.W = W\n",
    "        \n",
    "        # constants\n",
    "        self.g = g\n",
    "        if f:\n",
    "            self.f = xr.DataArray(f)\n",
    "            self.f2 = xr.DataArray(f**2)\n",
    "            \n"
   ]
  },
  {
   "cell_type": "code",
   "execution_count": 29,
   "id": "dutch-contact",
   "metadata": {},
   "outputs": [
    {
     "ename": "AttributeError",
     "evalue": "'int' object has no attribute 'to_DataSet'",
     "output_type": "error",
     "traceback": [
      "\u001b[0;31m---------------------------------------------------------------------------\u001b[0m",
      "\u001b[0;31mAttributeError\u001b[0m                            Traceback (most recent call last)",
      "\u001b[0;32m<ipython-input-29-760dd7429b1a>\u001b[0m in \u001b[0;36m<module>\u001b[0;34m\u001b[0m\n\u001b[0;32m----> 1\u001b[0;31m \u001b[0mm\u001b[0m \u001b[0;34m=\u001b[0m \u001b[0mModel\u001b[0m\u001b[0;34m(\u001b[0m\u001b[0;34m)\u001b[0m\u001b[0;34m\u001b[0m\u001b[0;34m\u001b[0m\u001b[0m\n\u001b[0m\u001b[1;32m      2\u001b[0m \u001b[0mtype\u001b[0m\u001b[0;34m(\u001b[0m\u001b[0mm\u001b[0m\u001b[0;34m)\u001b[0m\u001b[0;34m\u001b[0m\u001b[0;34m\u001b[0m\u001b[0m\n",
      "\u001b[0;32m<ipython-input-28-e7f8a2070c19>\u001b[0m in \u001b[0;36m__init__\u001b[0;34m(self, nz, nx, ny, L, W, dt, twrite, tmax, tavestart, taveint, useAB2, rek, filterfac, f, g, diagnostics_list, ntd, log_level, logfile)\u001b[0m\n\u001b[1;32m     87\u001b[0m         \u001b[0mself\u001b[0m\u001b[0;34m.\u001b[0m\u001b[0mg\u001b[0m \u001b[0;34m=\u001b[0m \u001b[0mg\u001b[0m\u001b[0;34m\u001b[0m\u001b[0;34m\u001b[0m\u001b[0m\n\u001b[1;32m     88\u001b[0m         \u001b[0;32mif\u001b[0m \u001b[0mf\u001b[0m\u001b[0;34m:\u001b[0m\u001b[0;34m\u001b[0m\u001b[0;34m\u001b[0m\u001b[0m\n\u001b[0;32m---> 89\u001b[0;31m             \u001b[0mself\u001b[0m\u001b[0;34m.\u001b[0m\u001b[0mf\u001b[0m \u001b[0;34m=\u001b[0m \u001b[0mf\u001b[0m\u001b[0;34m.\u001b[0m\u001b[0mto_DataSet\u001b[0m\u001b[0;34m(\u001b[0m\u001b[0;34m)\u001b[0m\u001b[0;34m\u001b[0m\u001b[0;34m\u001b[0m\u001b[0m\n\u001b[0m\u001b[1;32m     90\u001b[0m             \u001b[0mself\u001b[0m\u001b[0;34m.\u001b[0m\u001b[0mf2\u001b[0m \u001b[0;34m=\u001b[0m \u001b[0mxr\u001b[0m\u001b[0;34m.\u001b[0m\u001b[0mDataArray\u001b[0m\u001b[0;34m(\u001b[0m\u001b[0mf\u001b[0m\u001b[0;34m**\u001b[0m\u001b[0;36m2\u001b[0m\u001b[0;34m)\u001b[0m\u001b[0;34m\u001b[0m\u001b[0;34m\u001b[0m\u001b[0m\n\u001b[1;32m     91\u001b[0m \u001b[0;34m\u001b[0m\u001b[0m\n",
      "\u001b[0;31mAttributeError\u001b[0m: 'int' object has no attribute 'to_DataSet'"
     ]
    }
   ],
   "source": [
    "m = Model()\n",
    "type(m)"
   ]
  },
  {
   "cell_type": "code",
   "execution_count": null,
   "id": "interracial-assurance",
   "metadata": {},
   "outputs": [],
   "source": []
  }
 ],
 "metadata": {
  "kernelspec": {
   "display_name": "pyqg_run",
   "language": "python",
   "name": "pyqg_run"
  },
  "language_info": {
   "codemirror_mode": {
    "name": "ipython",
    "version": 3
   },
   "file_extension": ".py",
   "mimetype": "text/x-python",
   "name": "python",
   "nbconvert_exporter": "python",
   "pygments_lexer": "ipython3",
   "version": "3.7.9"
  }
 },
 "nbformat": 4,
 "nbformat_minor": 5
}
